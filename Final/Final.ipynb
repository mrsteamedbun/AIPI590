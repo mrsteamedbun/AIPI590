{
 "cells": [
  {
   "metadata": {},
   "cell_type": "markdown",
   "source": "# Final Proj",
   "id": "f6e984e9b88ed607"
  },
  {
   "metadata": {},
   "cell_type": "markdown",
   "source": "[![Open in Colab](https://colab.research.google.com/assets/colab-badge.svg)](https://colab.research.google.com/github/mrsteamedbun/AIPI590/blob/main/Final/Final.ipynb)",
   "id": "16ff9860baa6f3c8"
  },
  {
   "metadata": {
    "ExecuteTime": {
     "end_time": "2024-12-05T06:43:31.630718Z",
     "start_time": "2024-12-05T06:43:26.920512Z"
    }
   },
   "cell_type": "code",
   "source": "!pip install magenta pretty_midi shap lime numpy pandas matplotlib",
   "id": "d81532db9e8045cd",
   "outputs": [
    {
     "name": "stdout",
     "output_type": "stream",
     "text": [
      "Collecting magenta\n",
      "  Downloading magenta-2.1.4-py3-none-any.whl.metadata (2.1 kB)\n",
      "Requirement already satisfied: pretty_midi in c:\\users\\administrator\\anaconda3\\lib\\site-packages (0.2.10)\n",
      "Requirement already satisfied: shap in c:\\users\\administrator\\anaconda3\\lib\\site-packages (0.46.0)\n",
      "Requirement already satisfied: lime in c:\\users\\administrator\\anaconda3\\lib\\site-packages (0.2.0.1)\n",
      "Requirement already satisfied: numpy in c:\\users\\administrator\\anaconda3\\lib\\site-packages (1.21.6)\n",
      "Requirement already satisfied: pandas in c:\\users\\administrator\\anaconda3\\lib\\site-packages (1.4.4)\n",
      "Requirement already satisfied: matplotlib in c:\\users\\administrator\\anaconda3\\lib\\site-packages (3.5.2)\n",
      "Collecting absl-py==1.2.0 (from magenta)\n",
      "  Downloading absl_py-1.2.0-py3-none-any.whl.metadata (2.3 kB)\n",
      "Collecting dm-sonnet==2.0.0 (from magenta)\n",
      "  Downloading dm_sonnet-2.0.0-py3-none-any.whl.metadata (12 kB)\n",
      "Collecting imageio==2.20.0 (from magenta)\n",
      "  Downloading imageio-2.20.0-py3-none-any.whl.metadata (4.9 kB)\n",
      "Collecting librosa==0.7.2 (from magenta)\n",
      "  Using cached librosa-0.7.2-py3-none-any.whl\n",
      "Requirement already satisfied: mido==1.2.6 in c:\\users\\administrator\\anaconda3\\lib\\site-packages (from magenta) (1.2.6)\n",
      "Collecting mir-eval==0.7 (from magenta)\n",
      "  Using cached mir_eval-0.7-py3-none-any.whl\n",
      "Collecting note-seq==0.0.3 (from magenta)\n",
      "  Downloading note_seq-0.0.3-py3-none-any.whl.metadata (1.1 kB)\n",
      "Collecting numba==0.49.1 (from magenta)\n",
      "  Using cached numba-0.49.1-cp39-cp39-win_amd64.whl\n",
      "Collecting Pillow==9.2.0 (from magenta)\n",
      "  Downloading Pillow-9.2.0-cp39-cp39-win_amd64.whl.metadata (9.0 kB)\n",
      "Collecting pretty_midi\n",
      "  Using cached pretty_midi-0.2.9-py3-none-any.whl\n",
      "Requirement already satisfied: pygtrie==2.5.0 in c:\\users\\administrator\\anaconda3\\lib\\site-packages (from magenta) (2.5.0)\n",
      "Requirement already satisfied: python-rtmidi==1.1.2 in c:\\users\\administrator\\anaconda3\\lib\\site-packages (from magenta) (1.1.2)\n",
      "Collecting scikit-image==0.19.3 (from magenta)\n",
      "  Downloading scikit_image-0.19.3-cp39-cp39-win_amd64.whl.metadata (8.0 kB)\n",
      "Collecting scipy==1.7.3 (from magenta)\n",
      "  Downloading scipy-1.7.3-cp39-cp39-win_amd64.whl.metadata (2.2 kB)\n",
      "Requirement already satisfied: six==1.16.0 in c:\\users\\administrator\\anaconda3\\lib\\site-packages (from magenta) (1.16.0)\n",
      "Collecting sk-video==1.1.10 (from magenta)\n",
      "  Downloading sk_video-1.1.10-py2.py3-none-any.whl.metadata (1.0 kB)\n",
      "Collecting sox==1.4.1 (from magenta)\n",
      "  Downloading sox-1.4.1-py2.py3-none-any.whl.metadata (5.3 kB)\n",
      "Collecting tensorflow==2.9.1 (from magenta)\n",
      "  Downloading tensorflow-2.9.1-cp39-cp39-win_amd64.whl.metadata (3.0 kB)\n",
      "Collecting tensorflow-datasets==4.6.0 (from magenta)\n",
      "  Downloading tensorflow_datasets-4.6.0-py3-none-any.whl.metadata (6.6 kB)\n",
      "Collecting tensorflow-probability==0.17.0 (from magenta)\n",
      "  Downloading tensorflow_probability-0.17.0-py2.py3-none-any.whl.metadata (13 kB)\n",
      "Collecting tf-slim==1.1.0 (from magenta)\n",
      "  Downloading tf_slim-1.1.0-py2.py3-none-any.whl.metadata (1.6 kB)\n",
      "Collecting wheel==0.37.1 (from magenta)\n",
      "  Downloading wheel-0.37.1-py2.py3-none-any.whl.metadata (2.3 kB)\n",
      "Requirement already satisfied: cycler>=0.10 in c:\\users\\administrator\\anaconda3\\lib\\site-packages (from matplotlib) (0.11.0)\n",
      "Requirement already satisfied: fonttools>=4.22.0 in c:\\users\\administrator\\anaconda3\\lib\\site-packages (from matplotlib) (4.25.0)\n",
      "Requirement already satisfied: kiwisolver>=1.0.1 in c:\\users\\administrator\\anaconda3\\lib\\site-packages (from matplotlib) (1.4.2)\n",
      "Requirement already satisfied: packaging>=20.0 in c:\\users\\administrator\\anaconda3\\lib\\site-packages (from matplotlib) (24.1)\n",
      "Requirement already satisfied: pyparsing>=2.2.1 in c:\\users\\administrator\\anaconda3\\lib\\site-packages (from matplotlib) (3.0.9)\n",
      "Requirement already satisfied: python-dateutil>=2.7 in c:\\users\\administrator\\anaconda3\\lib\\site-packages (from matplotlib) (2.8.2)\n",
      "Collecting dm-tree>=0.1.1 (from dm-sonnet==2.0.0->magenta)\n",
      "  Downloading dm_tree-0.1.8-cp39-cp39-win_amd64.whl.metadata (2.0 kB)\n",
      "Requirement already satisfied: wrapt>=1.11.1 in c:\\users\\administrator\\anaconda3\\lib\\site-packages (from dm-sonnet==2.0.0->magenta) (1.14.1)\n",
      "Requirement already satisfied: tabulate>=0.7.5 in c:\\users\\administrator\\anaconda3\\lib\\site-packages (from dm-sonnet==2.0.0->magenta) (0.8.10)\n",
      "Collecting audioread>=2.0.0 (from librosa==0.7.2->magenta)\n",
      "  Downloading audioread-3.0.1-py3-none-any.whl.metadata (8.4 kB)\n",
      "Requirement already satisfied: scikit-learn!=0.19.0,>=0.14.0 in c:\\users\\administrator\\anaconda3\\lib\\site-packages (from librosa==0.7.2->magenta) (0.24.2)\n",
      "Requirement already satisfied: joblib>=0.12 in c:\\users\\administrator\\anaconda3\\lib\\site-packages (from librosa==0.7.2->magenta) (1.4.2)\n",
      "Requirement already satisfied: decorator>=3.0.0 in c:\\users\\administrator\\anaconda3\\lib\\site-packages (from librosa==0.7.2->magenta) (5.1.1)\n",
      "Collecting resampy>=0.2.2 (from librosa==0.7.2->magenta)\n",
      "  Downloading resampy-0.4.3-py3-none-any.whl.metadata (3.0 kB)\n",
      "Collecting soundfile>=0.9.0 (from librosa==0.7.2->magenta)\n",
      "  Downloading soundfile-0.12.1-py2.py3-none-win_amd64.whl.metadata (14 kB)\n",
      "Requirement already satisfied: future in c:\\users\\administrator\\anaconda3\\lib\\site-packages (from mir-eval==0.7->magenta) (0.18.2)\n",
      "Requirement already satisfied: attrs in c:\\users\\administrator\\anaconda3\\lib\\site-packages (from note-seq==0.0.3->magenta) (21.4.0)\n",
      "Requirement already satisfied: bokeh>=0.12.0 in c:\\users\\administrator\\anaconda3\\lib\\site-packages (from note-seq==0.0.3->magenta) (2.4.3)\n",
      "Requirement already satisfied: intervaltree>=2.1.0 in c:\\users\\administrator\\anaconda3\\lib\\site-packages (from note-seq==0.0.3->magenta) (3.1.0)\n",
      "Requirement already satisfied: IPython in c:\\users\\administrator\\anaconda3\\lib\\site-packages (from note-seq==0.0.3->magenta) (7.31.1)\n",
      "Requirement already satisfied: protobuf>=3.6.1 in c:\\users\\administrator\\anaconda3\\lib\\site-packages (from note-seq==0.0.3->magenta) (4.25.5)\n",
      "Requirement already satisfied: pydub in c:\\users\\administrator\\anaconda3\\lib\\site-packages (from note-seq==0.0.3->magenta) (0.25.1)\n",
      "Collecting llvmlite<=0.33.0.dev0,>=0.31.0.dev0 (from numba==0.49.1->magenta)\n",
      "  Downloading llvmlite-0.32.1.tar.gz (104 kB)\n",
      "  Preparing metadata (setup.py): started\n",
      "  Preparing metadata (setup.py): finished with status 'error'\n"
     ]
    },
    {
     "name": "stderr",
     "output_type": "stream",
     "text": [
      "  error: subprocess-exited-with-error\n",
      "  \n",
      "  python setup.py egg_info did not run successfully.\n",
      "  exit code: 1\n",
      "  \n",
      "  [1 lines of output]\n",
      "  ERROR: Can not execute `setup.py` since setuptools is not available in the build environment.\n",
      "  [end of output]\n",
      "  \n",
      "  note: This error originates from a subprocess, and is likely not a problem with pip.\n",
      "error: metadata-generation-failed\n",
      "\n",
      "Encountered error while generating package metadata.\n",
      "\n",
      "See above for output.\n",
      "\n",
      "note: This is an issue with the package mentioned above, not pip.\n",
      "hint: See above for details.\n"
     ]
    }
   ],
   "execution_count": 9
  },
  {
   "cell_type": "code",
   "id": "initial_id",
   "metadata": {
    "collapsed": true,
    "ExecuteTime": {
     "end_time": "2024-12-05T06:31:26.498054Z",
     "start_time": "2024-12-05T06:31:26.459696Z"
    }
   },
   "source": [
    "import pretty_midi\n",
    "import numpy as np\n",
    "\n",
    "def extract_features(midi_file):\n",
    "    midi_data = pretty_midi.PrettyMIDI(midi_file)\n",
    "    # Extract tempo\n",
    "    tempo = np.mean(midi_data.get_tempo_changes()[1])  # Average tempo\n",
    "    # Extract harmony (chord progression)\n",
    "    chords = []\n",
    "    for instrument in midi_data.instruments:\n",
    "        if not instrument.is_drum:\n",
    "            chords.extend(instrument.notes)\n",
    "    harmony = [(note.pitch, note.start, note.end) for note in chords]\n",
    "    return tempo, harmony\n",
    "\n",
    "# Example usage\n",
    "midi_file = 'midi/Arabesque-in-E-Nr-1.mid'\n",
    "tempo, harmony = extract_features(midi_file)\n",
    "print(f\"Tempo: {tempo}, Harmony: {harmony[:10]}\")\n"
   ],
   "outputs": [
    {
     "name": "stdout",
     "output_type": "stream",
     "text": [
      "Tempo: 120.0, Harmony: [(64, 2.216145833333333, 2.5260416666666665), (69, 2.3828125, 2.5625), (61, 2.0, 2.5625), (73, 2.536458333333333, 2.708333333333333), (76, 2.708333333333333, 2.833333333333333), (78, 2.825520833333333, 2.984375), (75, 3.1197916666666665, 3.3151041666666665), (80, 2.9765625, 3.333333333333333), (71, 3.270833333333333, 3.3619791666666665), (68, 3.3854166666666665, 3.5260416666666665)]\n"
     ]
    }
   ],
   "execution_count": 5
  },
  {
   "metadata": {},
   "cell_type": "code",
   "outputs": [],
   "execution_count": null,
   "source": [
    "from magenta.models.performance_rnn import performance_sequence_generator\n",
    "from magenta.protobuf import generator_pb2\n",
    "from magenta.models.shared import sequence_generator_bundle\n",
    "import note_seq\n",
    "\n",
    "def load_performance_rnn(bundle_path):\n",
    "    \"\"\"Load a pre-trained PerformanceRNN model.\"\"\"\n",
    "    bundle = sequence_generator_bundle.read_bundle_file(bundle_path)\n",
    "    generator = performance_sequence_generator.PerformanceRnnSequenceGenerator(\n",
    "        model_name='performance_with_dynamics',\n",
    "        bundle=bundle\n",
    "    )\n",
    "    generator.initialize()\n",
    "    return generator\n",
    "\n",
    "# Load the model\n",
    "model_path = 'performance_rnn.mag'\n",
    "performance_rnn = load_performance_rnn(model_path)"
   ],
   "id": "49f5891f37a639c"
  },
  {
   "metadata": {
    "ExecuteTime": {
     "end_time": "2024-12-05T06:34:50.257480Z",
     "start_time": "2024-12-05T06:34:49.059248Z"
    }
   },
   "cell_type": "code",
   "source": [
    "import shap\n",
    "import numpy as np\n",
    "\n",
    "# Dummy function for a model's prediction (replace with your model)\n",
    "def model_predict(features):\n",
    "    tempo, harmony = features\n",
    "    return [tempo * 0.5 + len(harmony) * 0.1]  # Example logic\n",
    "\n",
    "# SHAP explanation\n",
    "features = [tempo, harmony]\n",
    "explainer = shap.KernelExplainer(model_predict, np.array(features).reshape(1, -1))\n",
    "shap_values = explainer.shap_values(features)\n",
    "shap.summary_plot(shap_values, features, feature_names=['Tempo', 'Harmony'])"
   ],
   "id": "d2522e0b1b33df51",
   "outputs": [
    {
     "name": "stdout",
     "output_type": "stream",
     "text": [
      "Provided model function fails when applied to the provided data set.\n"
     ]
    },
    {
     "name": "stderr",
     "output_type": "stream",
     "text": [
      "C:\\Users\\Administrator\\AppData\\Local\\Temp\\ipykernel_37680\\1643825005.py:11: VisibleDeprecationWarning: Creating an ndarray from ragged nested sequences (which is a list-or-tuple of lists-or-tuples-or ndarrays with different lengths or shapes) is deprecated. If you meant to do this, you must specify 'dtype=object' when creating the ndarray.\n",
      "  explainer = shap.KernelExplainer(model_predict, np.array(features).reshape(1, -1))\n"
     ]
    },
    {
     "ename": "ValueError",
     "evalue": "not enough values to unpack (expected 2, got 1)",
     "output_type": "error",
     "traceback": [
      "\u001B[1;31m---------------------------------------------------------------------------\u001B[0m",
      "\u001B[1;31mValueError\u001B[0m                                Traceback (most recent call last)",
      "\u001B[1;32m~\\AppData\\Local\\Temp\\ipykernel_37680\\1643825005.py\u001B[0m in \u001B[0;36m<module>\u001B[1;34m\u001B[0m\n\u001B[0;32m      9\u001B[0m \u001B[1;31m# SHAP explanation\u001B[0m\u001B[1;33m\u001B[0m\u001B[1;33m\u001B[0m\u001B[0m\n\u001B[0;32m     10\u001B[0m \u001B[0mfeatures\u001B[0m \u001B[1;33m=\u001B[0m \u001B[1;33m[\u001B[0m\u001B[0mtempo\u001B[0m\u001B[1;33m,\u001B[0m \u001B[0mharmony\u001B[0m\u001B[1;33m]\u001B[0m\u001B[1;33m\u001B[0m\u001B[1;33m\u001B[0m\u001B[0m\n\u001B[1;32m---> 11\u001B[1;33m \u001B[0mexplainer\u001B[0m \u001B[1;33m=\u001B[0m \u001B[0mshap\u001B[0m\u001B[1;33m.\u001B[0m\u001B[0mKernelExplainer\u001B[0m\u001B[1;33m(\u001B[0m\u001B[0mmodel_predict\u001B[0m\u001B[1;33m,\u001B[0m \u001B[0mnp\u001B[0m\u001B[1;33m.\u001B[0m\u001B[0marray\u001B[0m\u001B[1;33m(\u001B[0m\u001B[0mfeatures\u001B[0m\u001B[1;33m)\u001B[0m\u001B[1;33m.\u001B[0m\u001B[0mreshape\u001B[0m\u001B[1;33m(\u001B[0m\u001B[1;36m1\u001B[0m\u001B[1;33m,\u001B[0m \u001B[1;33m-\u001B[0m\u001B[1;36m1\u001B[0m\u001B[1;33m)\u001B[0m\u001B[1;33m)\u001B[0m\u001B[1;33m\u001B[0m\u001B[1;33m\u001B[0m\u001B[0m\n\u001B[0m\u001B[0;32m     12\u001B[0m \u001B[0mshap_values\u001B[0m \u001B[1;33m=\u001B[0m \u001B[0mexplainer\u001B[0m\u001B[1;33m.\u001B[0m\u001B[0mshap_values\u001B[0m\u001B[1;33m(\u001B[0m\u001B[0mfeatures\u001B[0m\u001B[1;33m)\u001B[0m\u001B[1;33m\u001B[0m\u001B[1;33m\u001B[0m\u001B[0m\n\u001B[0;32m     13\u001B[0m \u001B[0mshap\u001B[0m\u001B[1;33m.\u001B[0m\u001B[0msummary_plot\u001B[0m\u001B[1;33m(\u001B[0m\u001B[0mshap_values\u001B[0m\u001B[1;33m,\u001B[0m \u001B[0mfeatures\u001B[0m\u001B[1;33m,\u001B[0m \u001B[0mfeature_names\u001B[0m\u001B[1;33m=\u001B[0m\u001B[1;33m[\u001B[0m\u001B[1;34m'Tempo'\u001B[0m\u001B[1;33m,\u001B[0m \u001B[1;34m'Harmony'\u001B[0m\u001B[1;33m]\u001B[0m\u001B[1;33m)\u001B[0m\u001B[1;33m\u001B[0m\u001B[1;33m\u001B[0m\u001B[0m\n",
      "\u001B[1;32m~\\anaconda3\\lib\\site-packages\\shap\\explainers\\_kernel.py\u001B[0m in \u001B[0;36m__init__\u001B[1;34m(self, model, data, feature_names, link, **kwargs)\u001B[0m\n\u001B[0;32m     95\u001B[0m         \u001B[0mself\u001B[0m\u001B[1;33m.\u001B[0m\u001B[0mmodel\u001B[0m \u001B[1;33m=\u001B[0m \u001B[0mconvert_to_model\u001B[0m\u001B[1;33m(\u001B[0m\u001B[0mmodel\u001B[0m\u001B[1;33m,\u001B[0m \u001B[0mkeep_index\u001B[0m\u001B[1;33m=\u001B[0m\u001B[0mself\u001B[0m\u001B[1;33m.\u001B[0m\u001B[0mkeep_index\u001B[0m\u001B[1;33m)\u001B[0m\u001B[1;33m\u001B[0m\u001B[1;33m\u001B[0m\u001B[0m\n\u001B[0;32m     96\u001B[0m         \u001B[0mself\u001B[0m\u001B[1;33m.\u001B[0m\u001B[0mdata\u001B[0m \u001B[1;33m=\u001B[0m \u001B[0mconvert_to_data\u001B[0m\u001B[1;33m(\u001B[0m\u001B[0mdata\u001B[0m\u001B[1;33m,\u001B[0m \u001B[0mkeep_index\u001B[0m\u001B[1;33m=\u001B[0m\u001B[0mself\u001B[0m\u001B[1;33m.\u001B[0m\u001B[0mkeep_index\u001B[0m\u001B[1;33m)\u001B[0m\u001B[1;33m\u001B[0m\u001B[1;33m\u001B[0m\u001B[0m\n\u001B[1;32m---> 97\u001B[1;33m         \u001B[0mmodel_null\u001B[0m \u001B[1;33m=\u001B[0m \u001B[0mmatch_model_to_data\u001B[0m\u001B[1;33m(\u001B[0m\u001B[0mself\u001B[0m\u001B[1;33m.\u001B[0m\u001B[0mmodel\u001B[0m\u001B[1;33m,\u001B[0m \u001B[0mself\u001B[0m\u001B[1;33m.\u001B[0m\u001B[0mdata\u001B[0m\u001B[1;33m)\u001B[0m\u001B[1;33m\u001B[0m\u001B[1;33m\u001B[0m\u001B[0m\n\u001B[0m\u001B[0;32m     98\u001B[0m \u001B[1;33m\u001B[0m\u001B[0m\n\u001B[0;32m     99\u001B[0m         \u001B[1;31m# enforce our current input type limitations\u001B[0m\u001B[1;33m\u001B[0m\u001B[1;33m\u001B[0m\u001B[0m\n",
      "\u001B[1;32m~\\anaconda3\\lib\\site-packages\\shap\\utils\\_legacy.py\u001B[0m in \u001B[0;36mmatch_model_to_data\u001B[1;34m(model, data)\u001B[0m\n\u001B[0;32m    137\u001B[0m             \u001B[0mout_val\u001B[0m \u001B[1;33m=\u001B[0m \u001B[0mmodel\u001B[0m\u001B[1;33m.\u001B[0m\u001B[0mf\u001B[0m\u001B[1;33m(\u001B[0m\u001B[0mdata\u001B[0m\u001B[1;33m.\u001B[0m\u001B[0mconvert_to_df\u001B[0m\u001B[1;33m(\u001B[0m\u001B[1;33m)\u001B[0m\u001B[1;33m)\u001B[0m\u001B[1;33m\u001B[0m\u001B[1;33m\u001B[0m\u001B[0m\n\u001B[0;32m    138\u001B[0m         \u001B[1;32melse\u001B[0m\u001B[1;33m:\u001B[0m\u001B[1;33m\u001B[0m\u001B[1;33m\u001B[0m\u001B[0m\n\u001B[1;32m--> 139\u001B[1;33m             \u001B[0mout_val\u001B[0m \u001B[1;33m=\u001B[0m \u001B[0mmodel\u001B[0m\u001B[1;33m.\u001B[0m\u001B[0mf\u001B[0m\u001B[1;33m(\u001B[0m\u001B[0mdata\u001B[0m\u001B[1;33m.\u001B[0m\u001B[0mdata\u001B[0m\u001B[1;33m)\u001B[0m\u001B[1;33m\u001B[0m\u001B[1;33m\u001B[0m\u001B[0m\n\u001B[0m\u001B[0;32m    140\u001B[0m     \u001B[1;32mexcept\u001B[0m \u001B[0mException\u001B[0m\u001B[1;33m:\u001B[0m\u001B[1;33m\u001B[0m\u001B[1;33m\u001B[0m\u001B[0m\n\u001B[0;32m    141\u001B[0m         \u001B[0mprint\u001B[0m\u001B[1;33m(\u001B[0m\u001B[1;34m\"Provided model function fails when applied to the provided data set.\"\u001B[0m\u001B[1;33m)\u001B[0m\u001B[1;33m\u001B[0m\u001B[1;33m\u001B[0m\u001B[0m\n",
      "\u001B[1;32m~\\AppData\\Local\\Temp\\ipykernel_37680\\1643825005.py\u001B[0m in \u001B[0;36mmodel_predict\u001B[1;34m(features)\u001B[0m\n\u001B[0;32m      4\u001B[0m \u001B[1;31m# Dummy function for a model's prediction (replace with your model)\u001B[0m\u001B[1;33m\u001B[0m\u001B[1;33m\u001B[0m\u001B[0m\n\u001B[0;32m      5\u001B[0m \u001B[1;32mdef\u001B[0m \u001B[0mmodel_predict\u001B[0m\u001B[1;33m(\u001B[0m\u001B[0mfeatures\u001B[0m\u001B[1;33m)\u001B[0m\u001B[1;33m:\u001B[0m\u001B[1;33m\u001B[0m\u001B[1;33m\u001B[0m\u001B[0m\n\u001B[1;32m----> 6\u001B[1;33m     \u001B[0mtempo\u001B[0m\u001B[1;33m,\u001B[0m \u001B[0mharmony\u001B[0m \u001B[1;33m=\u001B[0m \u001B[0mfeatures\u001B[0m\u001B[1;33m\u001B[0m\u001B[1;33m\u001B[0m\u001B[0m\n\u001B[0m\u001B[0;32m      7\u001B[0m     \u001B[1;32mreturn\u001B[0m \u001B[1;33m[\u001B[0m\u001B[0mtempo\u001B[0m \u001B[1;33m*\u001B[0m \u001B[1;36m0.5\u001B[0m \u001B[1;33m+\u001B[0m \u001B[0mlen\u001B[0m\u001B[1;33m(\u001B[0m\u001B[0mharmony\u001B[0m\u001B[1;33m)\u001B[0m \u001B[1;33m*\u001B[0m \u001B[1;36m0.1\u001B[0m\u001B[1;33m]\u001B[0m  \u001B[1;31m# Example logic\u001B[0m\u001B[1;33m\u001B[0m\u001B[1;33m\u001B[0m\u001B[0m\n\u001B[0;32m      8\u001B[0m \u001B[1;33m\u001B[0m\u001B[0m\n",
      "\u001B[1;31mValueError\u001B[0m: not enough values to unpack (expected 2, got 1)"
     ]
    }
   ],
   "execution_count": 8
  },
  {
   "metadata": {
    "ExecuteTime": {
     "end_time": "2024-12-05T06:33:19.671856Z",
     "start_time": "2024-12-05T06:33:17.549253Z"
    }
   },
   "cell_type": "code",
   "source": [
    "from lime import lime_tabular\n",
    "\n",
    "# Create a dummy dataset (replace with your actual data)\n",
    "import pandas as pd\n",
    "data = pd.DataFrame({\n",
    "    'Tempo': [tempo],\n",
    "    'Harmony': [len(harmony)]  # Example: Use the length of harmony\n",
    "})\n",
    "\n",
    "# LIME explanation\n",
    "explainer = lime_tabular.LimeTabularExplainer(data.values, feature_names=data.columns)\n",
    "explanation = explainer.explain_instance(data.iloc[0].values, model_predict)\n",
    "explanation.show_in_notebook()"
   ],
   "id": "8a12ef0824a1d332",
   "outputs": [
    {
     "ename": "NameError",
     "evalue": "name 'model_predict' is not defined",
     "output_type": "error",
     "traceback": [
      "\u001B[1;31m---------------------------------------------------------------------------\u001B[0m",
      "\u001B[1;31mNameError\u001B[0m                                 Traceback (most recent call last)",
      "\u001B[1;32m~\\AppData\\Local\\Temp\\ipykernel_37680\\2399757789.py\u001B[0m in \u001B[0;36m<module>\u001B[1;34m\u001B[0m\n\u001B[0;32m     10\u001B[0m \u001B[1;31m# LIME explanation\u001B[0m\u001B[1;33m\u001B[0m\u001B[1;33m\u001B[0m\u001B[0m\n\u001B[0;32m     11\u001B[0m \u001B[0mexplainer\u001B[0m \u001B[1;33m=\u001B[0m \u001B[0mlime_tabular\u001B[0m\u001B[1;33m.\u001B[0m\u001B[0mLimeTabularExplainer\u001B[0m\u001B[1;33m(\u001B[0m\u001B[0mdata\u001B[0m\u001B[1;33m.\u001B[0m\u001B[0mvalues\u001B[0m\u001B[1;33m,\u001B[0m \u001B[0mfeature_names\u001B[0m\u001B[1;33m=\u001B[0m\u001B[0mdata\u001B[0m\u001B[1;33m.\u001B[0m\u001B[0mcolumns\u001B[0m\u001B[1;33m)\u001B[0m\u001B[1;33m\u001B[0m\u001B[1;33m\u001B[0m\u001B[0m\n\u001B[1;32m---> 12\u001B[1;33m \u001B[0mexplanation\u001B[0m \u001B[1;33m=\u001B[0m \u001B[0mexplainer\u001B[0m\u001B[1;33m.\u001B[0m\u001B[0mexplain_instance\u001B[0m\u001B[1;33m(\u001B[0m\u001B[0mdata\u001B[0m\u001B[1;33m.\u001B[0m\u001B[0miloc\u001B[0m\u001B[1;33m[\u001B[0m\u001B[1;36m0\u001B[0m\u001B[1;33m]\u001B[0m\u001B[1;33m.\u001B[0m\u001B[0mvalues\u001B[0m\u001B[1;33m,\u001B[0m \u001B[0mmodel_predict\u001B[0m\u001B[1;33m)\u001B[0m\u001B[1;33m\u001B[0m\u001B[1;33m\u001B[0m\u001B[0m\n\u001B[0m\u001B[0;32m     13\u001B[0m \u001B[0mexplanation\u001B[0m\u001B[1;33m.\u001B[0m\u001B[0mshow_in_notebook\u001B[0m\u001B[1;33m(\u001B[0m\u001B[1;33m)\u001B[0m\u001B[1;33m\u001B[0m\u001B[1;33m\u001B[0m\u001B[0m\n",
      "\u001B[1;31mNameError\u001B[0m: name 'model_predict' is not defined"
     ]
    }
   ],
   "execution_count": 7
  }
 ],
 "metadata": {
  "kernelspec": {
   "display_name": "Python 3",
   "language": "python",
   "name": "python3"
  },
  "language_info": {
   "codemirror_mode": {
    "name": "ipython",
    "version": 2
   },
   "file_extension": ".py",
   "mimetype": "text/x-python",
   "name": "python",
   "nbconvert_exporter": "python",
   "pygments_lexer": "ipython2",
   "version": "2.7.6"
  }
 },
 "nbformat": 4,
 "nbformat_minor": 5
}
