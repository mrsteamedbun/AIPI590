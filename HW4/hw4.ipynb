{
 "cells": [
  {
   "cell_type": "markdown",
   "id": "a26a3c73c2b81e3c",
   "metadata": {},
   "source": "# HW4"
  },
  {
   "metadata": {},
   "cell_type": "markdown",
   "source": "[![Open in Colab](https://colab.research.google.com/assets/colab-badge.svg)](https://colab.research.google.com/github/mrsteamedbun/AIPI590/blob/main/HW4/hw4.ipynb)",
   "id": "6a443c8528a84858"
  },
  {
   "cell_type": "code",
   "execution_count": null,
   "id": "initial_id",
   "metadata": {
    "ExecuteTime": {
     "end_time": "2024-09-26T05:00:20.829115Z",
     "start_time": "2024-09-26T05:00:20.177795Z"
    }
   },
   "outputs": [],
   "source": [
    "# Import\n",
    "from sklearn.model_selection import train_test_split\n",
    "from sklearn.metrics import accuracy_score\n",
    "from imodels import get_clean_dataset\n",
    "import pandas as pd"
   ]
  },
  {
   "cell_type": "code",
   "execution_count": 44,
   "id": "90f6ed4a5cb25a38",
   "metadata": {
    "ExecuteTime": {
     "end_time": "2024-09-26T03:16:12.836100Z",
     "start_time": "2024-09-26T03:16:12.569247Z"
    }
   },
   "outputs": [
    {
     "name": "stdout",
     "output_type": "stream",
     "text": [
      "fetching fico from imodels\n",
      "Feature Data (X):\n",
      "   ExternalRiskEstimate  MSinceOldestTradeOpen  MSinceMostRecentTradeOpen  \\\n",
      "0                  55.0                  144.0                        4.0   \n",
      "1                  61.0                   58.0                       15.0   \n",
      "2                  67.0                   66.0                        5.0   \n",
      "3                  66.0                  169.0                        1.0   \n",
      "4                  81.0                  333.0                       27.0   \n",
      "\n",
      "   AverageMInFile  NumSatisfactoryTrades  NumTrades60Ever2DerogPubRec  \\\n",
      "0            84.0                   20.0                          3.0   \n",
      "1            41.0                    2.0                          4.0   \n",
      "2            24.0                    9.0                          0.0   \n",
      "3            73.0                   28.0                          1.0   \n",
      "4           132.0                   12.0                          0.0   \n",
      "\n",
      "   NumTrades90Ever2DerogPubRec  PercentTradesNeverDelq  MSinceMostRecentDelq  \\\n",
      "0                          0.0                    83.0                   2.0   \n",
      "1                          4.0                   100.0                  -7.0   \n",
      "2                          0.0                   100.0                  -7.0   \n",
      "3                          1.0                    93.0                  76.0   \n",
      "4                          0.0                   100.0                  -7.0   \n",
      "\n",
      "   MaxDelq2PublicRecLast12M  ...  PercentInstallTrades  \\\n",
      "0                       3.0  ...                  43.0   \n",
      "1                       0.0  ...                  67.0   \n",
      "2                       7.0  ...                  44.0   \n",
      "3                       6.0  ...                  57.0   \n",
      "4                       7.0  ...                  25.0   \n",
      "\n",
      "   MSinceMostRecentInqexcl7days  NumInqLast6M  NumInqLast6Mexcl7days  \\\n",
      "0                           0.0           0.0                    0.0   \n",
      "1                           0.0           0.0                    0.0   \n",
      "2                           0.0           4.0                    4.0   \n",
      "3                           0.0           5.0                    4.0   \n",
      "4                           0.0           1.0                    1.0   \n",
      "\n",
      "   NetFractionRevolvingBurden  NetFractionInstallBurden  \\\n",
      "0                        33.0                      -8.0   \n",
      "1                         0.0                      -8.0   \n",
      "2                        53.0                      66.0   \n",
      "3                        72.0                      83.0   \n",
      "4                        51.0                      89.0   \n",
      "\n",
      "   NumRevolvingTradesWBalance  NumInstallTradesWBalance  \\\n",
      "0                         8.0                       1.0   \n",
      "1                         0.0                      -8.0   \n",
      "2                         4.0                       2.0   \n",
      "3                         6.0                       4.0   \n",
      "4                         3.0                       1.0   \n",
      "\n",
      "   NumBank2NatlTradesWHighUtilization  PercentTradesWBalance  \n",
      "0                                 1.0                   69.0  \n",
      "1                                -8.0                    0.0  \n",
      "2                                 1.0                   86.0  \n",
      "3                                 3.0                   91.0  \n",
      "4                                 0.0                   80.0  \n",
      "\n",
      "[5 rows x 23 columns]\n",
      "\n",
      "Target Data (y):\n",
      "   Target\n",
      "0       1\n",
      "1       1\n",
      "2       1\n",
      "3       1\n",
      "4       1\n"
     ]
    }
   ],
   "source": [
    "# Set up the Dataset\n",
    "X, y, feature_names = get_clean_dataset(\"fico\")\n",
    "\n",
    "X_train, X_test, y_train, y_test = train_test_split(X, y, random_state=42)\n",
    "\n",
    "print(\"Feature Data (X):\")\n",
    "print(pd.DataFrame(X, columns=feature_names).head())\n",
    "\n",
    "print(\"\\nTarget Data (y):\")\n",
    "print(pd.DataFrame(y, columns=['Target']).head())"
   ]
  },
  {
   "cell_type": "markdown",
   "id": "453c126e957a9981",
   "metadata": {},
   "source": [
    "### RuleFitClassifier"
   ]
  },
  {
   "cell_type": "markdown",
   "id": "cc16f99183e6b045",
   "metadata": {},
   "source": [
    "![](../image/1.JPEG)"
   ]
  },
  {
   "cell_type": "markdown",
   "id": "341d9490c79d1c9f",
   "metadata": {},
   "source": [
    "RuleFit combines decision trees and linear models by extracting rules from tree ensembles and using them in a linear model. Each rule represents a condition, and the final prediction is based on a linear combination of these rules and the original features, making the model interpretable and flexible."
   ]
  },
  {
   "cell_type": "code",
   "execution_count": 28,
   "id": "c0df85b31e29f3df",
   "metadata": {
    "ExecuteTime": {
     "end_time": "2024-09-26T02:47:00.847824Z",
     "start_time": "2024-09-26T02:46:53.851758Z"
    }
   },
   "outputs": [
    {
     "name": "stdout",
     "output_type": "stream",
     "text": [
      "SlipperClassifier Accuracy: 0.70\n",
      "> ------------------------------\n",
      "> RuleFit:\n",
      "> \tPredictions are made by summing the coefficients of each rule\n",
      "> ------------------------------\n",
      "                                                                                                                             rule  coef\n",
      "                     ExternalRiskEstimate <= 81.5 and MSinceMostRecentInqexcl7days <= 1.5 and MSinceMostRecentInqexcl7days > -7.5  0.56\n",
      "                                                                    ExternalRiskEstimate <= 76.5 and PercentTradesWBalance > 48.5  0.16\n",
      "                                                                      ExternalRiskEstimate <= 73.5 and PercentInstallTrades > 7.5  0.01\n",
      "                                                                    ExternalRiskEstimate > 68.5 and MSinceOldestTradeOpen > 106.5 -0.09\n",
      "                                                                          ExternalRiskEstimate <= 76.5 and NumTotalTrades <= 28.5  0.01\n",
      "                                                                                                            AverageMInFile > 75.5 -0.10\n",
      "                                                                   MSinceMostRecentInqexcl7days <= 0.5 and AverageMInFile <= 84.5  0.18\n",
      "                                                                                               NetFractionRevolvingBurden <= 22.5 -0.01\n",
      "                                                                    ExternalRiskEstimate > 65.5 and PercentTradesWBalance <= 73.5 -0.12\n",
      "                                                                  ExternalRiskEstimate <= 74.5 and MSinceOldestTradeOpen <= 216.5  0.07\n",
      "                                                                    ExternalRiskEstimate > 70.5 and PercentTradesWBalance <= 81.0 -0.04\n",
      "                                                                    ExternalRiskEstimate <= 70.5 and PercentTradesWBalance > 40.5  0.11\n",
      "                            PercentInstallTrades <= 49.5 and NetFractionRevolvingBurden <= 35.5 and PercentTradesNeverDelq > 81.5 -0.31\n",
      "                                                                   ExternalRiskEstimate <= 78.5 and NumSatisfactoryTrades <= 19.5  0.09\n",
      "                                                                              ExternalRiskEstimate > 70.5 and NumInqLast6M <= 1.5 -0.10\n",
      "NetFractionRevolvingBurden <= 52.5 and AverageMInFile > 59.5 and PercentTradesNeverDelq > 88.5 and MaxDelq2PublicRecLast12M > 4.5 -0.30\n",
      "                                                                  ExternalRiskEstimate <= 75.5 and MSinceOldestTradeOpen <= 172.0  0.05\n",
      "                                          ExternalRiskEstimate > 69.5 and AverageMInFile > 56.5 and PercentTradesNeverDelq > 95.5 -0.17\n",
      "                                                                      ExternalRiskEstimate > 75.5 and NumSatisfactoryTrades > 7.5 -0.07\n",
      "                                                              NetFractionRevolvingBurden <= 62.5 and NumSatisfactoryTrades > 22.5 -0.09\n",
      "                                                                    ExternalRiskEstimate <= 67.5 and PercentTradesWBalance > 45.0  0.09\n",
      "                                                             ExternalRiskEstimate <= 66.5 and MSinceMostRecentInqexcl7days > -7.5  0.21\n",
      "                            NetFractionRevolvingBurden <= 47.5 and NumSatisfactoryTrades > 13.5 and PercentTradesNeverDelq > 96.5 -0.27\n",
      "                                          ExternalRiskEstimate > 71.5 and AverageMInFile > 74.5 and PercentTradesNeverDelq > 89.5 -0.01\n",
      "                                            ExternalRiskEstimate > 75.5 and PercentTradesWBalance > 6.5 and AverageMInFile > 68.5 -0.06\n",
      "                              ExternalRiskEstimate > 77.5 and NetFractionRevolvingBurden <= 37.5 and NumSatisfactoryTrades > 10.5 -0.02\n",
      "                                                               ExternalRiskEstimate > 66.5 and MSinceMostRecentInqexcl7days > 0.5 -0.06\n",
      "                                                                                                NetFractionRevolvingBurden > 59.5  0.03\n",
      "                                                                                                NetFractionRevolvingBurden > 62.5  0.01\n",
      "                                                                    ExternalRiskEstimate <= 62.5 and PercentTradesWBalance > 31.0  0.15\n",
      "\n"
     ]
    }
   ],
   "source": [
    "from imodels import RuleFitClassifier\n",
    "\n",
    "rulefit_model = RuleFitClassifier()\n",
    "rulefit_model.fit(X_train, y_train, feature_names=feature_names)\n",
    "rulefit_y_pred = rulefit_model.predict(X_test)\n",
    "rulefit_accuracy = accuracy_score(y_test, rulefit_y_pred)\n",
    "\n",
    "print(f\"SlipperClassifier Accuracy: {rulefit_accuracy:.2f}\")\n",
    "print(rulefit_model)"
   ]
  },
  {
   "cell_type": "markdown",
   "id": "588fd7d2d964413e",
   "metadata": {},
   "source": [
    "### GreedyRuleListClassifier"
   ]
  },
  {
   "cell_type": "markdown",
   "id": "f8846497",
   "metadata": {},
   "source": [
    "![](../image/2.JPEG)"
   ]
  },
  {
   "cell_type": "markdown",
   "id": "d5cff4c7",
   "metadata": {},
   "source": [
    "GreedyRuleListClassifier creates a sequential list of decision rules by greedily adding rules that best fit the training data. Each rule is applied in order, and once a rule matches, a prediction is made. This approach ensures interpretability by building simple, human-readable decision lists."
   ]
  },
  {
   "cell_type": "code",
   "execution_count": 29,
   "id": "223523a01962159a",
   "metadata": {
    "ExecuteTime": {
     "end_time": "2024-09-26T02:48:24.656473Z",
     "start_time": "2024-09-26T02:48:24.634474Z"
    }
   },
   "outputs": [
    {
     "name": "stdout",
     "output_type": "stream",
     "text": [
      "SlipperClassifier Accuracy: 0.69\n",
      "> ------------------------------\n",
      "> Greedy Rule List\n",
      "> ------------------------------\n",
      "↓\n",
      "26.5% risk (7844 pts)\n",
      "\tif ~ExternalRiskEstimate ==> 68.2% risk (4836 pts)\n",
      "↓\n",
      "18.03% risk (3008 pts)\n",
      "\tif ~ExternalRiskEstimate ==> 35.199999999999996% risk (1483 pts)\n",
      "↓\n",
      "16.03% risk (1525 pts)\n",
      "\tif ~MSinceOldestTradeOpen ==> 35.199999999999996% risk (159 pts)\n",
      "↓\n",
      "15.46% risk (1366 pts)\n",
      "\tif ~PercentTradesWBalance ==> 52.400000000000006% risk (21 pts)\n",
      "↓\n",
      "12.49% risk (1345 pts)\n",
      "\tif ~ExternalRiskEstimate ==> 20.8% risk (480 pts)\n",
      "↓\n",
      "12.49% risk (865 pts)\n",
      "\n"
     ]
    }
   ],
   "source": [
    "from imodels import GreedyRuleListClassifier\n",
    "\n",
    "greedy_model = GreedyRuleListClassifier()\n",
    "greedy_model.fit(X_train, y_train, feature_names=feature_names)\n",
    "greedy_y_pred = greedy_model.predict(X_test)\n",
    "greedy_accuracy = accuracy_score(y_test, greedy_y_pred)\n",
    "\n",
    "print(f\"SlipperClassifier Accuracy: {greedy_accuracy:.2f}\")\n",
    "print(greedy_model)"
   ]
  },
  {
   "cell_type": "markdown",
   "id": "969ffeb4a96a69fe",
   "metadata": {},
   "source": [
    "### SkopeRulesClassifier"
   ]
  },
  {
   "cell_type": "markdown",
   "id": "1e49bf7d",
   "metadata": {},
   "source": [
    "![](../image/3.JPEG)"
   ]
  },
  {
   "cell_type": "markdown",
   "id": "cde9a28f",
   "metadata": {},
   "source": [
    "GreedyRuleListClassifier creates a sequential list of decision rules by greedily adding rules that best fit the training data. Each rule is applied in order, and once a rule matches, a prediction is made. This approach ensures interpretability by building simple, human-readable decision lists."
   ]
  },
  {
   "cell_type": "code",
   "execution_count": 41,
   "id": "d9d96573a2b9f0de",
   "metadata": {
    "ExecuteTime": {
     "end_time": "2024-09-26T03:05:46.063022Z",
     "start_time": "2024-09-26T03:05:45.786525Z"
    }
   },
   "outputs": [
    {
     "name": "stdout",
     "output_type": "stream",
     "text": [
      "SkopeRulesClassifier Accuracy: 0.48\n",
      "SkopeRulesClassifier()\n"
     ]
    }
   ],
   "source": [
    "from imodels import SkopeRulesClassifier\n",
    "\n",
    "skope_model = SkopeRulesClassifier()\n",
    "skope_model.fit(X_train, y_train, feature_names=feature_names)\n",
    "skope_y_pred = skope_model.predict(X_test)\n",
    "skope_accuracy = accuracy_score(y_test, skope_y_pred)\n",
    "\n",
    "print(f\"SkopeRulesClassifier Accuracy: {skope_accuracy:.2f}\")\n",
    "print(skope_model)"
   ]
  }
 ],
 "metadata": {
  "kernelspec": {
   "display_name": "Python 3 (ipykernel)",
   "language": "python",
   "name": "python3"
  },
  "language_info": {
   "codemirror_mode": {
    "name": "ipython",
    "version": 3
   },
   "file_extension": ".py",
   "mimetype": "text/x-python",
   "name": "python",
   "nbconvert_exporter": "python",
   "pygments_lexer": "ipython3",
   "version": "3.11.8"
  }
 },
 "nbformat": 4,
 "nbformat_minor": 5
}
