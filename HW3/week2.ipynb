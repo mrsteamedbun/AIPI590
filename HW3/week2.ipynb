{
 "cells": [
  {
   "metadata": {},
   "cell_type": "markdown",
   "source": "# XAI CODE DEMO\n",
   "id": "c6ead70c95c20c7e"
  },
  {
   "metadata": {},
   "cell_type": "markdown",
   "source": "[![Open in Colab](https://colab.research.google.com/assets/colab-badge.svg)](https://colab.research.google.com/github/mrsteamedbun/AIPI590/blob/main/Week%202/week2.ipynb)",
   "id": "affae0885150d1b"
  },
  {
   "metadata": {},
   "cell_type": "markdown",
   "source": [
    "Data: https://www.kaggle.com/datasets/blastchar/telco-customer-churn/code\n",
    "\n",
    "- Linear Regression: Checked for linearity between features and churn, normality of residuals, and homoscedasticity using visualizations such as scatter plots and residual plots. \n",
    "- Logistic Regression, Assessed the assumption of linearity between the log-odds of churn and the features. \n",
    "- Generalized Additive Model: Confirmed that the model could capture non-linear relationships through spline functions without requiring strict assumptions of linearity."
   ],
   "id": "c1464582271744e0"
  },
  {
   "metadata": {},
   "cell_type": "markdown",
   "source": "## Exploratory Data Analysis",
   "id": "fc74fe9b4b1288a5"
  },
  {
   "metadata": {
    "collapsed": true,
    "ExecuteTime": {
     "end_time": "2024-09-19T17:15:55.314402Z",
     "start_time": "2024-09-19T17:15:54.590599Z"
    }
   },
   "cell_type": "code",
   "source": [
    "# !pip install pygam\n",
    "from pygam import LogisticGAM, s, f\n",
    "import pandas as pd\n",
    "from sklearn.linear_model import LogisticRegression, LinearRegression\n",
    "from sklearn.metrics import accuracy_score, mean_squared_error, r2_score\n",
    "import matplotlib.pyplot as plt\n",
    "from sklearn.model_selection import train_test_split\n",
    "import numpy as np\n",
    "\n",
    "file_path = 'WA_Fn-UseC_-Telco-Customer-Churn.csv'\n",
    "df = pd.read_csv(file_path)"
   ],
   "id": "initial_id",
   "outputs": [],
   "execution_count": 1
  },
  {
   "metadata": {},
   "cell_type": "markdown",
   "source": "## Linear Regression",
   "id": "ace8fb9ecc2503c1"
  },
  {
   "metadata": {
    "ExecuteTime": {
     "end_time": "2024-09-19T17:16:34.098800Z",
     "start_time": "2024-09-19T17:16:33.948968Z"
    }
   },
   "cell_type": "code",
   "source": [
    "df['Churn'] = df['Churn'].map({'Yes': 1, 'No': 0})\n",
    "df_encoded = pd.get_dummies(df.drop(columns=['customerID', 'Churn']), drop_first=True)\n",
    "\n",
    "X = df_encoded\n",
    "y = df['Churn']\n",
    "\n",
    "X_train, X_test, y_train, y_test = train_test_split(X, y)"
   ],
   "id": "8b9e799f10323033",
   "outputs": [],
   "execution_count": 4
  },
  {
   "metadata": {
    "ExecuteTime": {
     "end_time": "2024-09-19T17:17:07.296396Z",
     "start_time": "2024-09-19T17:16:35.881630Z"
    }
   },
   "cell_type": "code",
   "source": [
    "linear_model = LinearRegression()\n",
    "linear_model.fit(X_train, y_train)\n",
    "\n",
    "y_pred = linear_model.predict(X_test)\n",
    "\n",
    "mse = mean_squared_error(y_test, y_pred)\n",
    "r2 = r2_score(y_test, y_pred)\n",
    "\n",
    "print(f'Mean Squared Error: {mse}')\n",
    "print(f'R-squared: {r2}')\n",
    "\n",
    "y_pred_binary = np.where(y_pred > 0.5, 1, 0)\n",
    "\n",
    "linear_accuracy = accuracy_score(y_test, y_pred_binary)\n",
    "print(f'Linear Regression Accuracy: {linear_accuracy}')"
   ],
   "id": "f78640c5969e6566",
   "outputs": [
    {
     "name": "stdout",
     "output_type": "stream",
     "text": [
      "Mean Squared Error: 1.3107256455327765e+17\n",
      "R-squared: -6.811152671866152e+17\n",
      "Linear Regression Accuracy: 0.5883021010789324\n"
     ]
    }
   ],
   "execution_count": 5
  },
  {
   "metadata": {
    "ExecuteTime": {
     "end_time": "2024-09-19T17:17:13.958355Z",
     "start_time": "2024-09-19T17:17:13.952343Z"
    }
   },
   "cell_type": "code",
   "source": [
    "coefficients = pd.DataFrame({'Feature': X.columns, 'Coefficient': linear_model.coef_})\n",
    "coefficients['abs_Coefficient'] = np.abs(coefficients['Coefficient'])\n",
    "coefficients = coefficients.sort_values(by='abs_Coefficient', ascending=False)\n",
    "\n",
    "print(coefficients[['Feature', 'Coefficient']])"
   ],
   "id": "7b7af42cf5bb17c3",
   "outputs": [
    {
     "name": "stdout",
     "output_type": "stream",
     "text": [
      "                                   Feature   Coefficient\n",
      "15    DeviceProtection_No internet service -2.117954e+10\n",
      "17         TechSupport_No internet service  1.505740e+10\n",
      "10                      InternetService_No  1.081052e+10\n",
      "21     StreamingMovies_No internet service -1.005960e+10\n",
      "45                    TotalCharges_1008.55  8.986780e+09\n",
      "...                                    ...           ...\n",
      "5385                    TotalCharges_677.9  0.000000e+00\n",
      "5387                  TotalCharges_6770.85  0.000000e+00\n",
      "5393                   TotalCharges_6780.1  0.000000e+00\n",
      "5398                    TotalCharges_679.3  0.000000e+00\n",
      "6558                    TotalCharges_999.9  0.000000e+00\n",
      "\n",
      "[6559 rows x 2 columns]\n"
     ]
    }
   ],
   "execution_count": 6
  },
  {
   "metadata": {
    "ExecuteTime": {
     "end_time": "2024-09-19T17:17:26.185743Z",
     "start_time": "2024-09-19T17:17:26.127106Z"
    }
   },
   "cell_type": "code",
   "source": [
    "residuals = y_test - y_pred\n",
    "plt.figure(figsize=(10, 6))\n",
    "\n",
    "plt.subplot(1, 2, 1)\n",
    "plt.scatter(y_pred, residuals, color='blue')\n",
    "plt.axhline(y=0, color='red', linestyle='--')\n",
    "plt.xlabel('Predicted Churn')\n",
    "plt.ylabel('Residuals')\n",
    "plt.title('Residual Plot')\n",
    "\n",
    "plt.show()\n"
   ],
   "id": "f1320e912ed6aab6",
   "outputs": [
    {
     "data": {
      "text/plain": [
       "<Figure size 1000x600 with 1 Axes>"
      ],
      "image/png": "[encoded data removed]"
     },
     "metadata": {},
     "output_type": "display_data"
    }
   ],
   "execution_count": 8
  },
  {
   "metadata": {},
   "cell_type": "markdown",
   "source": "Linear regression assumes a linear relationship among features and target variables that may not hold in the context of customer churn because nonlinear interactions of features can influence churn, such as monetary amounts regarding tenure or contract type.",
   "id": "87a327e1a6b9aac3"
  },
  {
   "metadata": {},
   "cell_type": "markdown",
   "source": "## Logistic Regression",
   "id": "ce086269237c26b5"
  },
  {
   "metadata": {
    "ExecuteTime": {
     "end_time": "2024-09-19T17:19:33.914692Z",
     "start_time": "2024-09-19T17:19:14.999061Z"
    }
   },
   "cell_type": "code",
   "source": [
    "logistic_model = LogisticRegression(max_iter=1000)\n",
    "logistic_model.fit(X_train, y_train)\n",
    "\n",
    "y_pred = logistic_model.predict(X_test)\n",
    "y_pred_proba = logistic_model.predict_proba(X_test)[:, 1]\n",
    "\n",
    "logistic_accuracy = accuracy_score(y_test, y_pred)\n",
    "print(f'Accuracy: {logistic_accuracy}')"
   ],
   "id": "8fc99783063b066a",
   "outputs": [
    {
     "name": "stdout",
     "output_type": "stream",
     "text": [
      "Accuracy: 0.8035207268597387\n"
     ]
    }
   ],
   "execution_count": 9
  },
  {
   "metadata": {
    "ExecuteTime": {
     "end_time": "2024-09-19T17:19:37.099273Z",
     "start_time": "2024-09-19T17:19:37.092698Z"
    }
   },
   "cell_type": "code",
   "source": [
    "coefficients = pd.DataFrame({'Feature': X.columns, 'Coefficient': logistic_model.coef_[0]})\n",
    "coefficients['abs_Coefficient'] = np.abs(coefficients['Coefficient'])\n",
    "coefficients = coefficients.sort_values(by='abs_Coefficient', ascending=False)\n",
    "\n",
    "print(coefficients[['Feature', 'Coefficient']])"
   ],
   "id": "199ccad23437f084",
   "outputs": [
    {
     "name": "stdout",
     "output_type": "stream",
     "text": [
      "                   Feature  Coefficient\n",
      "1638     TotalCharges_20.2     1.711220\n",
      "1636     TotalCharges_20.1     1.597612\n",
      "24       Contract_Two year    -1.213724\n",
      "1637    TotalCharges_20.15     1.148358\n",
      "2516   TotalCharges_288.05     1.132690\n",
      "...                    ...          ...\n",
      "3531   TotalCharges_411.75     0.000000\n",
      "3534  TotalCharges_4113.15     0.000000\n",
      "3535   TotalCharges_4113.7     0.000000\n",
      "3544  TotalCharges_4122.65     0.000000\n",
      "6558    TotalCharges_999.9     0.000000\n",
      "\n",
      "[6559 rows x 2 columns]\n"
     ]
    }
   ],
   "execution_count": 10
  },
  {
   "metadata": {},
   "cell_type": "markdown",
   "source": "Logistic Regression performed better than linear regression in terms of interpretability. Logistic regression is useful to understand the direction of the relationships. Still, it assumes linearity between log-odds of the outcome and the predictors.",
   "id": "fc9558bd09181648"
  },
  {
   "metadata": {},
   "cell_type": "markdown",
   "source": "## Generalized Additive Model",
   "id": "e8a512b2ff926628"
  },
  {
   "metadata": {
    "ExecuteTime": {
     "end_time": "2024-09-19T17:19:52.589016Z",
     "start_time": "2024-09-19T17:19:50.798455Z"
    }
   },
   "cell_type": "code",
   "source": [
    "gam = LogisticGAM(s(0) + s(1) + s(2) + s(3) + f(4) + f(5) + f(6) + f(7) + f(8) + f(9))\n",
    "gam.fit(X_train, y_train)\n",
    "\n",
    "y_pred_proba = gam.predict_proba(X_test)\n",
    "y_pred = np.where(y_pred_proba > 0.5, 1, 0)\n",
    "\n",
    "GAM_accuracy = accuracy_score(y_test, y_pred)\n",
    "print(f'Accuracy: {GAM_accuracy}')"
   ],
   "id": "a5b9adef1174f3a2",
   "outputs": [
    {
     "name": "stdout",
     "output_type": "stream",
     "text": [
      "Accuracy: 0.8120386144236229\n"
     ]
    }
   ],
   "execution_count": 12
  },
  {
   "metadata": {},
   "cell_type": "markdown",
   "source": "GAM can model smooth curves for continuous features to provide fuller insight into precisely how the variables are affecting churn. This flexibility in the method means that generally, it performs better than logistic regression, particularly when the relationships in the dataset are complex. Added complexity does come at a slight cost, with it being more difficult to interpret than logistic regression.",
   "id": "71fa5d77a7701908"
  },
  {
   "metadata": {},
   "cell_type": "markdown",
   "source": "## Model Comparison",
   "id": "6693a5fe7caef0d6"
  },
  {
   "metadata": {
    "ExecuteTime": {
     "end_time": "2024-09-19T17:20:04.429705Z",
     "start_time": "2024-09-19T17:20:04.426861Z"
    }
   },
   "cell_type": "code",
   "source": [
    "print(f'Linear Regression Accuracy: {linear_accuracy}')\n",
    "print(f'Logistic Regression Accuracy: {logistic_accuracy}')\n",
    "print(f'GAM Accuracy: {GAM_accuracy}')"
   ],
   "id": "94ada20c197a99b6",
   "outputs": [
    {
     "name": "stdout",
     "output_type": "stream",
     "text": [
      "Linear Regression Accuracy: 0.5883021010789324\n",
      "Logistic Regression Accuracy: 0.8035207268597387\n",
      "GAM Accuracy: 0.8120386144236229\n"
     ]
    }
   ],
   "execution_count": 13
  },
  {
   "metadata": {},
   "cell_type": "markdown",
   "source": [
    "Overall Suggestion: GAM\n",
    "Logistic regression provides a simpler but effective model whereas GAM offers the best balance of flexibility and performance. The choice between models reflects the trade-off between interpretability and performance needed for business decision-making."
   ],
   "id": "3479860fe70db3b"
  },
  {
   "metadata": {},
   "cell_type": "code",
   "outputs": [],
   "execution_count": null,
   "source": "",
   "id": "15d6dcb54591cead"
  }
 ],
 "metadata": {
  "kernelspec": {
   "display_name": "Python 3",
   "language": "python",
   "name": "python3"
  },
  "language_info": {
   "codemirror_mode": {
    "name": "ipython",
    "version": 2
   },
   "file_extension": ".py",
   "mimetype": "text/x-python",
   "name": "python",
   "nbconvert_exporter": "python",
   "pygments_lexer": "ipython2",
   "version": "2.7.6"
  }
 },
 "nbformat": 4,
 "nbformat_minor": 5
}
